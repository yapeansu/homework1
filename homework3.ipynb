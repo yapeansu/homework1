{
  "nbformat": 4,
  "nbformat_minor": 0,
  "metadata": {
    "colab": {
      "provenance": [],
      "authorship_tag": "ABX9TyPGY/RB3vnj+Hmz35DVlH8E",
      "include_colab_link": true
    },
    "kernelspec": {
      "name": "python3",
      "display_name": "Python 3"
    },
    "language_info": {
      "name": "python"
    }
  },
  "cells": [
    {
      "cell_type": "markdown",
      "metadata": {
        "id": "view-in-github",
        "colab_type": "text"
      },
      "source": [
        "<a href=\"https://colab.research.google.com/github/yapeansu/homework1/blob/main/homework3.ipynb\" target=\"_parent\"><img src=\"https://colab.research.google.com/assets/colab-badge.svg\" alt=\"Open In Colab\"/></a>"
      ]
    },
    {
      "cell_type": "code",
      "execution_count": null,
      "metadata": {
        "id": "5C_Ol78M1zVS"
      },
      "outputs": [],
      "source": [
        "count = 0  \n",
        "for i in range(1, 1001):\n",
        "    if i % 2 != 0 and i % 3 != 0 and i % 5 != 0 and i % 7 != 0:\n",
        "        print(i)\n",
        "        count += 1"
      ]
    },
    {
      "cell_type": "code",
      "source": [
        "print(count)"
      ],
      "metadata": {
        "id": "5bV6xtnBLlmS"
      },
      "execution_count": null,
      "outputs": []
    }
  ]
}