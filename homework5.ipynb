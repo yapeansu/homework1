{
  "nbformat": 4,
  "nbformat_minor": 0,
  "metadata": {
    "colab": {
      "provenance": [],
      "authorship_tag": "ABX9TyPpewW69eZm0+2LCannfHZ0",
      "include_colab_link": true
    },
    "kernelspec": {
      "name": "python3",
      "display_name": "Python 3"
    },
    "language_info": {
      "name": "python"
    }
  },
  "cells": [
    {
      "cell_type": "markdown",
      "metadata": {
        "id": "view-in-github",
        "colab_type": "text"
      },
      "source": [
        "<a href=\"https://colab.research.google.com/github/yapeansu/homework1/blob/main/homework5.ipynb\" target=\"_parent\"><img src=\"https://colab.research.google.com/assets/colab-badge.svg\" alt=\"Open In Colab\"/></a>"
      ]
    },
    {
      "cell_type": "code",
      "execution_count": null,
      "metadata": {
        "id": "cpnGdaZ4vsEb"
      },
      "outputs": [],
      "source": [
        "import numpy as np\n",
        "import matplotlib.pyplot as plt\n",
        "\n",
        "def plot_quadratic_equation(a, b, c):\n",
        "    x = np.linspace(-10, 10, 400)  # 生成 x 值的数组\n",
        "    y = a * x**2 + b * x + c  # 计算对应的 y 值\n",
        "    \n",
        "    # 计算根和极值点的坐标值\n",
        "    discriminant = b**2 - 4 * a * c\n",
        "    if discriminant > 0:\n",
        "        root1 = (-b + np.sqrt(discriminant)) / (2 * a)\n",
        "        root2 = (-b - np.sqrt(discriminant)) / (2 * a)\n",
        "        vertex_x = -b / (2 * a)\n",
        "        vertex_y = a * vertex_x**2 + b * vertex_x + c\n",
        "    else:\n",
        "        root1 = None\n",
        "        root2 = None\n",
        "        vertex_x = -b / (2 * a)\n",
        "        vertex_y = a * vertex_x**2 + b * vertex_x + c\n",
        "    \n",
        "    # 绘制图形\n",
        "    plt.plot(x, y)\n",
        "    plt.axhline(0, color='black', lw=0.5)  # 绘制 x 轴\n",
        "    plt.axvline(0, color='black', lw=0.5)  # 绘制 y 轴\n",
        "    plt.xlabel('x')\n",
        "    plt.ylabel('y')\n",
        "    \n",
        "    # 标注根和极值点的坐标值\n",
        "    if root1 is not None and root2 is not None:\n",
        "        plt.scatter([root1, root2], [0, 0], color='red', marker='o')\n",
        "        plt.annotate(f'({root1:.2f}, 0)', (root1, 0), xytext=(-40, 20), textcoords='offset points', arrowprops=dict(arrowstyle=\"->\", lw=1))\n",
        "        plt.annotate(f'({root2:.2f}, 0)', (root2, 0), xytext=(-40, 20), textcoords='offset points', arrowprops=dict(arrowstyle=\"->\", lw=1))\n",
        "    \n",
        "    plt.scatter(vertex_x, vertex_y, color='blue', marker='o')\n",
        "    plt.annotate(f'({vertex_x:.2f}, {vertex_y:.2f})', (vertex_x, vertex_y), xytext=(-40, -30), textcoords='offset points', arrowprops=dict(arrowstyle=\"->\", lw=1))\n",
        "    \n",
        "    plt.title(f'Quadratic Equation: y = {a}x^2 + {b}x + {c}')\n",
        "    plt.grid(True)\n",
        "    plt.show()\n",
        "\n",
        "# 示例调用\n",
        "plot_quadratic_equation(-3, 4, 7)\n",
        "plot_quadratic_equation(5, -4, 9)\n"
      ]
    }
  ]
}