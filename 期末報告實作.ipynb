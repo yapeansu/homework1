{
  "nbformat": 4,
  "nbformat_minor": 0,
  "metadata": {
    "colab": {
      "provenance": [],
      "authorship_tag": "ABX9TyPCTuGd3TlKhu+cuaTVZxfM",
      "include_colab_link": true
    },
    "kernelspec": {
      "name": "python3",
      "display_name": "Python 3"
    },
    "language_info": {
      "name": "python"
    }
  },
  "cells": [
    {
      "cell_type": "markdown",
      "metadata": {
        "id": "view-in-github",
        "colab_type": "text"
      },
      "source": [
        "<a href=\"https://colab.research.google.com/github/yapeansu/homework1/blob/main/%E6%9C%9F%E6%9C%AB%E5%A0%B1%E5%91%8A%E5%AF%A6%E4%BD%9C.ipynb\" target=\"_parent\"><img src=\"https://colab.research.google.com/assets/colab-badge.svg\" alt=\"Open In Colab\"/></a>"
      ]
    },
    {
      "cell_type": "code",
      "source": [
        "import math\n",
        "\n",
        "class City:\n",
        "    def __init__(self, name, x, y, accommodation_cost):\n",
        "        self.name = name\n",
        "        self.x = x\n",
        "        self.y = y\n",
        "        self.accommodation_cost = accommodation_cost\n",
        "\n",
        "    def calculate_discounted_cost(self, prev_city):\n",
        "        if prev_city is None:\n",
        "            return self.accommodation_cost\n",
        "        if prev_city.name in ['C', 'G'] and self.name == 'A':\n",
        "            return self.accommodation_cost * 0.8\n",
        "        if prev_city.name in ['A', 'B'] and self.name == 'D':\n",
        "            return self.accommodation_cost * 0.8\n",
        "        if prev_city.name in ['B', 'F'] and self.name == 'E':\n",
        "            return self.accommodation_cost * 0.8\n",
        "        if prev_city.name in ['A', 'C'] and self.name == 'F':\n",
        "            return self.accommodation_cost * 0.8\n",
        "        if prev_city.name in ['E', 'F'] and self.name == 'G':\n",
        "            return self.accommodation_cost * 0.8\n",
        "        return self.accommodation_cost\n",
        "\n",
        "    def calculate_distance(self, other_city):\n",
        "        return math.sqrt((self.x - other_city.x)**2 + (self.y - other_city.y)**2)\n",
        "\n",
        "\n",
        "def find_cheapest_travel_route(start_city, cities):\n",
        "    visited_cities = []\n",
        "    current_city = start_city\n",
        "    total_cost = 0\n",
        "\n",
        "    while len(visited_cities) < len(cities):\n",
        "        visited_cities.append(current_city)\n",
        "        min_cost = float('inf')\n",
        "        next_city = None\n",
        "\n",
        "        for city in cities:\n",
        "            if city not in visited_cities:\n",
        "                cost = current_city.calculate_distance(city) * 100\n",
        "                cost += city.calculate_discounted_cost(current_city)\n",
        "                if cost < min_cost:\n",
        "                    min_cost = cost\n",
        "                    next_city = city\n",
        "\n",
        "        if next_city is None:\n",
        "            break\n",
        "\n",
        "        total_cost += min_cost\n",
        "        current_city = next_city\n",
        "\n",
        "    return visited_cities, total_cost\n",
        "\n",
        "\n",
        "# 创建城市对象\n",
        "cities = [\n",
        "    City('A', 0, 0, 2000),\n",
        "    City('B', 0, 120, 2400),\n",
        "    City('C', 30, 100, 2400),\n",
        "    City('D', 80, 0, 1600),\n",
        "    City('E', 45, 10, 1500),\n",
        "    City('F', 90, 160, 2200),\n",
        "    City('G', 120, 200, 1200)\n",
        "]\n",
        "\n",
        "# 指定出发城市\n",
        "start_city = cities[0]\n",
        "\n",
        "# 寻找最便宜的旅行方案\n",
        "travel_route, total_cost = find_cheapest_travel_route(start_city, cities)\n",
        "\n",
        "# 输出结果\n",
        "print(\"旅行路线:\")\n",
        "for city in travel_route:\n",
        "    print(city.name, end=' -> ')\n",
        "print(start_city.name)\n",
        "print(\"总旅费:\", total_cost)\n"
      ],
      "metadata": {
        "colab": {
          "base_uri": "https://localhost:8080/"
        },
        "id": "273quXTa-Lbq",
        "outputId": "f9f5f93e-aca7-4549-82bc-e7e3dc19d475"
      },
      "execution_count": 5,
      "outputs": [
        {
          "output_type": "stream",
          "name": "stdout",
          "text": [
            "旅行路线:\n",
            "A -> E -> D -> C -> B -> F -> G -> A\n",
            "总旅费: 48944.57613804574\n"
          ]
        }
      ]
    }
  ]
}