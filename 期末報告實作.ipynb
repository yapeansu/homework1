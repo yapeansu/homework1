{
  "nbformat": 4,
  "nbformat_minor": 0,
  "metadata": {
    "colab": {
      "provenance": [],
      "authorship_tag": "ABX9TyOz2hjACMnPInR/50KjHYO/",
      "include_colab_link": true
    },
    "kernelspec": {
      "name": "python3",
      "display_name": "Python 3"
    },
    "language_info": {
      "name": "python"
    }
  },
  "cells": [
    {
      "cell_type": "markdown",
      "metadata": {
        "id": "view-in-github",
        "colab_type": "text"
      },
      "source": [
        "<a href=\"https://colab.research.google.com/github/yapeansu/homework1/blob/main/%E6%9C%9F%E6%9C%AB%E5%A0%B1%E5%91%8A%E5%AF%A6%E4%BD%9C.ipynb\" target=\"_parent\"><img src=\"https://colab.research.google.com/assets/colab-badge.svg\" alt=\"Open In Colab\"/></a>"
      ]
    },
    {
      "cell_type": "code",
      "source": [
        "import math\n",
        "\n",
        "class City:\n",
        "    def __init__(self, name, coordinates, accommodation_cost):\n",
        "        self.name = name\n",
        "        self.coordinates = coordinates\n",
        "        self.accommodation_cost = accommodation_cost\n",
        "\n",
        "def calculate_discounted_cost(previous_city, current_city):\n",
        "    if previous_city == None:\n",
        "        return current_city.accommodation_cost\n",
        "    elif previous_city.name in ['C', 'G'] and current_city.name == 'A':\n",
        "        return 0.8 * current_city.accommodation_cost\n",
        "    elif previous_city.name in ['A', 'B'] and current_city.name == 'D':\n",
        "        return 0.8 * current_city.accommodation_cost\n",
        "    elif previous_city.name in ['B', 'F'] and current_city.name == 'E':\n",
        "        return 0.8 * current_city.accommodation_cost\n",
        "    elif previous_city.name in ['A', 'C'] and current_city.name == 'F':\n",
        "        return 0.8 * current_city.accommodation_cost\n",
        "    elif previous_city.name in ['E', 'F'] and current_city.name == 'G':\n",
        "        return 0.8 * current_city.accommodation_cost\n",
        "    else:\n",
        "        return current_city.accommodation_cost\n",
        "\n",
        "def calculate_distance(city1, city2):\n",
        "    x1, y1 = city1.coordinates\n",
        "    x2, y2 = city2.coordinates\n",
        "    return math.sqrt((x2 - x1)**2 + (y2 - y1)**2)\n",
        "\n",
        "def find_cheapest_route(cities):\n",
        "    start_city = cities[0]\n",
        "    current_city = start_city\n",
        "    visited_cities = [current_city]\n",
        "    total_cost = 0\n",
        "\n",
        "    while len(visited_cities) < len(cities):\n",
        "        remaining_cities = [city for city in cities if city not in visited_cities]\n",
        "        cheapest_cost = float('inf')\n",
        "        next_city = None\n",
        "\n",
        "        for city in remaining_cities:\n",
        "            distance = calculate_distance(current_city, city)\n",
        "            accommodation_cost = calculate_discounted_cost(current_city, city)\n",
        "            total_cost_so_far = distance * 100 + accommodation_cost\n",
        "\n",
        "            if total_cost_so_far < cheapest_cost:\n",
        "                cheapest_cost = total_cost_so_far\n",
        "                next_city = city\n",
        "\n",
        "        visited_cities.append(next_city)\n",
        "        total_cost += cheapest_cost\n",
        "        current_city = next_city\n",
        "\n",
        "    total_cost += calculate_distance(current_city, start_city) * 100\n",
        "    visited_cities.append(start_city)\n",
        "\n",
        "    return visited_cities, total_cost\n",
        "\n",
        "# 建立城市物件\n",
        "cities = [\n",
        "    City('A', (0, 0), 2000),\n",
        "    City('B', (0, 120), 2400),\n",
        "    City('C', (30, 100), 2400),\n",
        "    City('D', (80, 0), 1600),\n",
        "    City('E', (45, 10), 1500),\n",
        "    City('F', (90, 160), 2200),\n",
        "    City('G', (120, 200), 1200)\n",
        "]\n",
        "\n",
        "# 尋找最便宜的旅遊方案\n",
        "route, total_cost = find_cheapest_route(cities)\n",
        "\n",
        "# 輸出遊歷順序和總花費\n",
        "print(\"遊歷順序:\")\n",
        "for city in route:\n",
        "    print(city.name, end=\" \")\n",
        "print(\"\\n總花費:\", round(total_cost, 1))\n",
        "\n"
      ],
      "metadata": {
        "id": "GtK41WhaW-5T"
      },
      "execution_count": null,
      "outputs": []
    }
  ]
}