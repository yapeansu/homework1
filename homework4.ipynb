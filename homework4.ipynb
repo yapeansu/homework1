{
  "nbformat": 4,
  "nbformat_minor": 0,
  "metadata": {
    "colab": {
      "provenance": [],
      "mount_file_id": "1wh7L6-x_iu_143BWSmQ6LSL-KqQdX8P1",
      "authorship_tag": "ABX9TyNFiEZMVLxZPp/+rKVpvh4N",
      "include_colab_link": true
    },
    "kernelspec": {
      "name": "python3",
      "display_name": "Python 3"
    },
    "language_info": {
      "name": "python"
    }
  },
  "cells": [
    {
      "cell_type": "markdown",
      "metadata": {
        "id": "view-in-github",
        "colab_type": "text"
      },
      "source": [
        "<a href=\"https://colab.research.google.com/github/yapeansu/homework1/blob/main/homework4.ipynb\" target=\"_parent\"><img src=\"https://colab.research.google.com/assets/colab-badge.svg\" alt=\"Open In Colab\"/></a>"
      ]
    },
    {
      "cell_type": "code",
      "source": [
        "import pandas as pd\n",
        "import matplotlib.pyplot as plt\n",
        "\n",
        "# 1. 讀取population.csv並轉存於Excel工作表中\n",
        "data = pd.read_csv('/content/drive/MyDrive/Colab Notebooks/population.csv')\n",
        "data.to_excel('population.xlsx', index=False)\n",
        "\n",
        "# 2. 從Excel檔案中抓取資料\n",
        "excel_data = pd.read_excel('population.xlsx')\n",
        "\n",
        "# 3.1 折線趨勢圖\n",
        "plt.plot(excel_data['pop'], excel_data['year'])\n",
        "plt.xlabel('Population')\n",
        "plt.ylabel('Year')\n",
        "plt.title('Population Trend')\n",
        "plt.show()\n",
        "\n",
        "# 3.2 圓餅圖\n",
        "plt.pie(excel_data['pop'], labels=excel_data['year'], autopct='%1.1f%%')\n",
        "plt.title('Population Distribution')\n",
        "plt.show()\n"
      ],
      "metadata": {
        "id": "1q-29tyCo6i-"
      },
      "execution_count": null,
      "outputs": []
    }
  ]
}