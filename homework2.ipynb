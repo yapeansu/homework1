{
  "nbformat": 4,
  "nbformat_minor": 0,
  "metadata": {
    "colab": {
      "provenance": [],
      "authorship_tag": "ABX9TyMeOGrf1KZ9xqZ+nVXcoBIm",
      "include_colab_link": true
    },
    "kernelspec": {
      "name": "python3",
      "display_name": "Python 3"
    },
    "language_info": {
      "name": "python"
    }
  },
  "cells": [
    {
      "cell_type": "markdown",
      "metadata": {
        "id": "view-in-github",
        "colab_type": "text"
      },
      "source": [
        "<a href=\"https://colab.research.google.com/github/yapeansu/homework1/blob/main/homework2.ipynb\" target=\"_parent\"><img src=\"https://colab.research.google.com/assets/colab-badge.svg\" alt=\"Open In Colab\"/></a>"
      ]
    },
    {
      "cell_type": "code",
      "execution_count": null,
      "metadata": {
        "id": "P-sO5ohjlGWR"
      },
      "outputs": [],
      "source": [
        "a='大道之行也，天  下為公。 選賢與能，講信  修睦。故人不獨親其親，不獨子其子；使老有所終，壯有 所用，幼有 所長，矜寡孤獨廢疾者，皆有所養；男有分 女有歸。貨惡其棄 於地也不必藏於  己；力惡其不  出於身也不必為己。是故 謀閉而不興 ，盜竊亂賊而不作，故外戶而 不閉，是謂「大同」。'\n",
        "b=a.replace(' ', '')\n",
        "print(len(b))\n"
      ]
    },
    {
      "cell_type": "code",
      "source": [
        "c=b.replace('。','，')\n",
        "d=c.replace('；','，')\n",
        "e=(d.split('，'))\n",
        "f='，'.join(e)\n",
        "g=f.replace('，','\\n')\n",
        "print(g)\n"
      ],
      "metadata": {
        "id": "-XNuMVzdsAEm"
      },
      "execution_count": null,
      "outputs": []
    },
    {
      "cell_type": "code",
      "source": [
        "h=a.count('不')\n",
        "print(h)"
      ],
      "metadata": {
        "id": "g-faeaiqp3oM"
      },
      "execution_count": null,
      "outputs": []
    }
  ]
}